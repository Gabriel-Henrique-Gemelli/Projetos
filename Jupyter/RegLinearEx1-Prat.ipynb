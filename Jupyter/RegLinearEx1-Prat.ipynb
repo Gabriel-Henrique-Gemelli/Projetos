{
 "cells": [
  {
   "cell_type": "code",
   "execution_count": 1,
   "id": "d47df464-7dc8-4020-ad83-1c869ea8cc68",
   "metadata": {},
   "outputs": [],
   "source": [
    "import numpy as np\n",
    "import matplotlib.pyplot as plt\n",
    "from sklearn.model_selection import train_test_split\n",
    "from sklearn.preprocessing import StandardScaler\n"
   ]
  },
  {
   "cell_type": "code",
   "execution_count": 4,
   "id": "6b181eb2-a6d9-4911-81d8-ae78f3487971",
   "metadata": {},
   "outputs": [
    {
     "data": {
      "image/png": "[encoded data removed]",
      "text/plain": [
       "<Figure size 640x480 with 1 Axes>"
      ]
     },
     "metadata": {},
     "output_type": "display_data"
    }
   ],
   "source": [
    "# Gerando dados sintéticos\n",
    "np.random.seed(42)\n",
    "X = np.linspace(0, 10, 100).reshape(-1, 1)  # Valores entre 0 e 10\n",
    "y = 2.5 * X + 5 + np.random.normal(0, 2, (100, 1))  # Relação linear com ruído\n",
    "\n",
    "# Dividindo em treino e teste\n",
    "X_train, X_test, y_train, y_test = train_test_split(X, y, test_size=0.2, random_state=42)\n",
    "\n",
    "# Visualizando os dados\n",
    "plt.scatter(X_train, y_train, label='Treinamento', color='blue', alpha=0.6)\n",
    "plt.scatter(X_test, y_test, label='Teste', color='red', alpha=0.6)\n",
    "plt.legend()\n",
    "plt.xlabel(\"X\")\n",
    "plt.ylabel(\"Y\")\n",
    "plt.title(\"Dataset Sintético\")\n",
    "plt.show()\n"
   ]
  },
  {
   "cell_type": "code",
   "execution_count": 8,
   "id": "18a008c6-28f2-4abb-9699-e5a3f1beb1be",
   "metadata": {},
   "outputs": [
    {
     "name": "stdout",
     "output_type": "stream",
     "text": [
      "5.0 17.29230696521181\n"
     ]
    }
   ],
   "source": [
    "# TODO: Calcule a média de X e Y\n",
    "X_mean = np.mean(X) # Média de X\n",
    "y_mean = np.mean(y)  # Média de Y\n",
    "\n",
    "# TODO: Calcule o coeficiente angular (m) usando a fórmula:\n",
    "# m = sum( (X - X_mean) * (Y - Y_mean) ) / sum( (X - X_mean)² )\n",
    "# m = ???\n",
    "\n",
    "# # TODO: Calcule o coeficiente linear (b) usando a fórmula:\n",
    "# # b = y_mean - m * X_mean\n",
    "# b = ???\n",
    "\n",
    "# print(f\"Equação da reta estimada: Y = {m:.2f}X + {b:.2f}\")\n",
    "print(X_mean,y_mean)\n"
   ]
  },
  {
   "cell_type": "code",
   "execution_count": null,
   "id": "ce0d8166-c53b-4fef-9909-acaeedd64d03",
   "metadata": {},
   "outputs": [],
   "source": [
    "# TODO: Calcule os valores previstos (y_pred) usando a equação da reta\n",
    "# Fórmula: y_pred = m * X_test + b\n",
    "y_pred = ???\n",
    "\n",
    "# Visualizando os resultados\n",
    "plt.scatter(X_test, y_test, label='Valores Reais', color='red', alpha=0.6)\n",
    "plt.plot(X_test, y_pred, label='Regressão Linear (Manual)\", color='green')\n",
    "plt.legend()\n",
    "plt.xlabel(\"X\")\n",
    "plt.ylabel(\"Y\")\n",
    "plt.title(\"Regressão Linear - Implementação Manual\")\n",
    "plt.show()\n"
   ]
  },
  {
   "cell_type": "code",
   "execution_count": 2,
   "id": "df914273-474e-432e-bb81-fe550b8808e7",
   "metadata": {},
   "outputs": [
    {
     "ename": "NameError",
     "evalue": "name 'X_train' is not defined",
     "output_type": "error",
     "traceback": [
      "\u001b[1;31m---------------------------------------------------------------------------\u001b[0m",
      "\u001b[1;31mNameError\u001b[0m                                 Traceback (most recent call last)",
      "Cell \u001b[1;32mIn[2], line 5\u001b[0m\n\u001b[0;32m      3\u001b[0m \u001b[38;5;66;03m# Criando e treinando o modelo\u001b[39;00m\n\u001b[0;32m      4\u001b[0m modelo \u001b[38;5;241m=\u001b[39m LinearRegression()\n\u001b[1;32m----> 5\u001b[0m modelo\u001b[38;5;241m.\u001b[39mfit(\u001b[43mX_train\u001b[49m, y_train)\n\u001b[0;32m      7\u001b[0m \u001b[38;5;66;03m# Obtendo os coeficientes\u001b[39;00m\n\u001b[0;32m      8\u001b[0m m_sklearn \u001b[38;5;241m=\u001b[39m modelo\u001b[38;5;241m.\u001b[39mcoef_[\u001b[38;5;241m0\u001b[39m][\u001b[38;5;241m0\u001b[39m]\n",
      "\u001b[1;31mNameError\u001b[0m: name 'X_train' is not defined"
     ]
    }
   ],
   "source": [
    "from sklearn.linear_model import LinearRegression\n",
    "\n",
    "# Criando e treinando o modelo\n",
    "modelo = LinearRegression()\n",
    "modelo.fit(X_train, y_train)\n",
    "\n",
    "# Obtendo os coeficientes\n",
    "m_sklearn = modelo.coef_[0][0]\n",
    "b_sklearn = modelo.intercept_[0]\n",
    "\n",
    "print(f\"Equação gerada pelo sklearn: Y = {m_sklearn:.2f}X + {b_sklearn:.2f}\")\n",
    "\n",
    "# Fazendo previsões\n",
    "y_pred_sklearn = modelo.predict(X_test)\n",
    "\n",
    "# Visualizando os resultados\n",
    "plt.scatter(X_test, y_test, label='Valores Reais', color='red', alpha=0.6)\n",
    "plt.plot(X_test, y_pred_sklearn, label='Regressão Linear (sklearn)', color='blue')\n",
    "plt.legend()\n",
    "plt.xlabel(\"X\")\n",
    "plt.ylabel(\"Y\")\n",
    "plt.title(\"Regressão Linear - sklearn vs. Manual\")\n",
    "plt.show()\n"
   ]
  },
  {
   "cell_type": "code",
   "execution_count": null,
   "id": "279bf844-2390-4e28-973b-1d72e559030d",
   "metadata": {},
   "outputs": [],
   "source": []
  }
 ],
 "metadata": {
  "kernelspec": {
   "display_name": "Python 3 (ipykernel)",
   "language": "python",
   "name": "python3"
  },
  "language_info": {
   "codemirror_mode": {
    "name": "ipython",
    "version": 3
   },
   "file_extension": ".py",
   "mimetype": "text/x-python",
   "name": "python",
   "nbconvert_exporter": "python",
   "pygments_lexer": "ipython3",
   "version": "3.13.1"
  }
 },
 "nbformat": 4,
 "nbformat_minor": 5
}
