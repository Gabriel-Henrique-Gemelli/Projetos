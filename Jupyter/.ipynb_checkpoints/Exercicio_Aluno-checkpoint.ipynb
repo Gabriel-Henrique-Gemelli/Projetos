{
 "cells": [
  {
   "cell_type": "markdown",
   "id": "f046d88d",
   "metadata": {},
   "source": [
    "# Exercícios de Familiarização com Jupyter Notebook\n",
    "\n",
    "Bem-vindo(a) ao seu primeiro exercício no **Jupyter Notebook**!\n",
    "\n",
    "Aqui, você vai praticar principalmente o uso de **Markdown** e algumas funcionalidades do ambiente.\n",
    "\n",
    "Siga as instruções em cada exercício (células marcadas como `markdown` ou `code`) e preencha onde indicado.\n",
    "\n",
    "---\n",
    "\n",
    "## Instruções Gerais\n",
    "1. Para **executar** uma célula, basta selecioná-la e pressionar `Shift + Enter` (ou clicar em *Run*).\n",
    "2. Se precisar **editar** uma célula de Markdown, dê um duplo clique nela.\n",
    "3. Salve seu progresso regularmente.\n",
    "\n",
    "---\n",
    "## Sumário de Exercícios\n",
    "1. Criar um título e subtítulo em Markdown.\n",
    "2. Texto em **negrito** e *itálico*.\n",
    "3. Listas enumeradas e listas com marcadores.\n",
    "4. Inserir um link.\n",
    "5. Inserir uma imagem.\n",
    "6. Inserir um trecho de código em Markdown.\n",
    "7. Inserir uma equação em LaTeX.\n",
    "8. Criar uma célula *Raw* e explicar a diferença para Markdown.\n",
    "9. Utilizar uma \"magia\" do Jupyter.\n",
    "10. Criar uma célula de código em Python que imprima algo.\n",
    "\n",
    "---\n",
    "## Vamos começar!"
   ]
  },
  {
   "cell_type": "markdown",
   "id": "226c02bd",
   "metadata": {},
   "source": [
    "### Exercício 1\n",
    "**Faça** uma célula Markdown que contenha:\n",
    "\n",
    "1. Um título (por exemplo: `# Meu Título`).\n",
    "2. Um subtítulo (por exemplo: `## Meu Subtítulo`).\n",
    "\n",
    "Crie essa célula abaixo desta. Quando terminar, rode a célula para ver o resultado."
   ]
  },
  {
   "cell_type": "markdown",
   "id": "663a0334",
   "metadata": {},
   "source": [
    "# Claudio Piças\n",
    "## Perna Alejas\n",
    "Lorem Ipsum fnsnjfushufhweifhweufweihfuqwidxoqwihfuwehjioewhfw.bagabudnada"
   ]
  },
  {
   "cell_type": "markdown",
   "id": "5786f1e7",
   "metadata": {},
   "source": [
    "### Exercício 2\n",
    "**Faça** uma célula Markdown com um texto que contenha:\n",
    "\n",
    "- Uma palavra em **negrito**.\n",
    "- Uma palavra em *itálico*.\n",
    "\n",
    "**"
   ]
  },
  {
   "cell_type": "markdown",
   "id": "f8998e82",
   "metadata": {},
   "source": [
    "**Negrito**"
   ]
  },
  {
   "cell_type": "markdown",
   "id": "23d81b26",
   "metadata": {},
   "source": [
    "### Exercício 3\n",
    "**Faça** uma célula Markdown que crie:\n",
    "\n",
    "1. Uma lista enumerada (1, 2, 3...).\n",
    "2. Uma lista com marcadores (por exemplo, `-` ou `*`).\n"
   ]
  },
  {
   "cell_type": "markdown",
   "id": "fc506fd4",
   "metadata": {},
   "source": [
    "1. gabriel\n",
    "2. gemas\n",
    "\n",
    "\n",
    "\n",
    "- a\n",
    "- b\n",
    "- c\n",
    "- d"
   ]
  },
  {
   "cell_type": "markdown",
   "id": "d4413832",
   "metadata": {},
   "source": [
    "### Exercício 4\n",
    "**Faça** uma célula Markdown que insira um **link** para qualquer site (exemplo: [Google](https://www.google.com)).\n",
    "\n",
    "Dica: formato básico -> `[texto do link](URL)`"
   ]
  },
  {
   "cell_type": "markdown",
   "id": "897730c6",
   "metadata": {},
   "source": [
    "### [Xvideos](https://google.com)"
   ]
  },
  {
   "cell_type": "markdown",
   "id": "f19536c6",
   "metadata": {},
   "source": [
    "### Exercício 5\n",
    "**Faça** uma célula Markdown que insira uma **imagem** (pode ser uma URL da internet ou um arquivo local se estiver no mesmo diretório do notebook).\n",
    "\n",
    "Dica (para URL): `![](https://endereco/da_imagem.jpg)`\n",
    "Dica (para arquivo local): `![](nome_arquivo.png)`"
   ]
  },
  {
   "cell_type": "markdown",
   "id": "f0e335d3",
   "metadata": {},
   "source": [
    "![](data:image/jpeg;base64,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)\n",
    "\n",
    "![](cadeirante.jpeg)"
   ]
  },
  {
   "cell_type": "markdown",
   "id": "125cb594",
   "metadata": {},
   "source": [
    "### Exercício 6\n",
    "**Faça** uma célula Markdown que contenha um **trecho de código** em qualquer linguagem (ex.: um pedaço de HTML, JavaScript ou Python) usando a formatação de bloco de código Markdown.\n",
    "\n",
    "Dica: use ``` (três crases) antes e depois do código."
   ]
  },
  {
   "cell_type": "markdown",
   "id": "879d4d55",
   "metadata": {},
   "source": [
    "lanche = []\n",
    "count = 0\n",
    "lanche.add(20)\n",
    "lanche.add(10)\n",
    "for i in lanche:\n",
    "    i += count\n",
    "print(count)\n",
    "    "
   ]
  },
  {
   "cell_type": "markdown",
   "id": "2bbd24af",
   "metadata": {},
   "source": [
    "### Exercício 7\n",
    "**Faça** uma célula Markdown que contenha uma **equação em LaTeX**. Por exemplo, a equação da soma de primeiro grau ou qualquer outra:\n",
    "\n",
    "```\n",
    "$$ ax + b = 0 $$\n",
    "```\n",
    "\n",
    "Rode a célula para ver o resultado formatado."
   ]
  },
  {
   "cell_type": "markdown",
   "id": "d116925d",
   "metadata": {},
   "source": [
    "<!-- Exercício 7: célula para o aluno criar -->\n",
    "<!-- Substituir por uma equação em LaTeX. -->"
   ]
  },
  {
   "cell_type": "markdown",
   "id": "591d70e4",
   "metadata": {},
   "source": [
    "### Exercício 8\n",
    "**Faça** uma célula do tipo *Raw NBConvert* (em vez de Markdown) e escreva dentro dela uma breve explicação sobre a diferença entre Raw e Markdown.\n",
    "\n",
    "Dica: você pode alterar o tipo de célula na barra superior do Jupyter (\"Cell > Cell Type > Raw NBConvert\").\n",
    "\n",
    "> **Importante**: Este exercício pode ser feito apenas no Jupyter local. Em algumas plataformas online (tipo Google Colab), essa funcionalidade não está disponível."
   ]
  },
  {
   "cell_type": "raw",
   "id": "8e25c36e",
   "metadata": {},
   "source": [
    "<!-- Exercício 8: altere esta célula para Raw NBConvert e escreva a explicação. -->"
   ]
  },
  {
   "cell_type": "markdown",
   "id": "6d40527b",
   "metadata": {},
   "source": [
    "### Exercício 9\n",
    "**Faça** uma célula de código que utilize uma \"magia\" do Jupyter, por exemplo `%%time`, para medir o tempo de execução de algum trecho.\n",
    "\n",
    "Exemplo:\n",
    "```python\n",
    "%%time\n",
    "soma = 0\n",
    "for i in range(1000000):\n",
    "    soma += i\n",
    "print(soma)\n",
    "```\n",
    "Você pode criar seu próprio exemplo, se preferir."
   ]
  },
  {
   "cell_type": "code",
   "execution_count": null,
   "id": "6db5f8d1",
   "metadata": {},
   "outputs": [],
   "source": [
    "# Faça uma célula de código com alguma magia do Jupyter.\n",
    "# Exemplo:\n",
    "# %%time\n",
    "# ... seu código ..."
   ]
  },
  {
   "cell_type": "markdown",
   "id": "3ec74a8c",
   "metadata": {},
   "source": [
    "### Exercício 10\n",
    "**Faça** uma célula de código em Python que imprima a mensagem: `Olá, turma!`\n"
   ]
  },
  {
   "cell_type": "code",
   "execution_count": null,
   "id": "6b6e7dd7",
   "metadata": {},
   "outputs": [],
   "source": [
    "# TODO: Crie a célula de código para imprimir\n"
   ]
  },
  {
   "cell_type": "markdown",
   "id": "9c8b67a2",
   "metadata": {},
   "source": [
    "## Conclusão\n",
    "Parabéns! Você praticou:\n",
    "1. Criação e edição de células Markdown\n",
    "2. Formatação em Markdown (título, subtítulo, negrito, itálico, listas, link, imagem, bloco de código, LaTeX)\n",
    "3. Célula Raw NBConvert\n",
    "4. Mágias do Jupyter\n",
    "5. Um pouco de código em Python\n",
    "\n",
    "Isso serve como base para usar o Jupyter Notebook em projetos futuros.\n",
    "\n",
    "---\n",
    "**Fim da Versão do Aluno**"
   ]
  }
 ],
 "metadata": {
  "kernelspec": {
   "display_name": "Python 3 (ipykernel)",
   "language": "python",
   "name": "python3"
  },
  "language_info": {
   "codemirror_mode": {
    "name": "ipython",
    "version": 3
   },
   "file_extension": ".py",
   "mimetype": "text/x-python",
   "name": "python",
   "nbconvert_exporter": "python",
   "pygments_lexer": "ipython3",
   "version": "3.13.1"
  },
  "name": "Exercicio_Aluno"
 },
 "nbformat": 4,
 "nbformat_minor": 5
}
