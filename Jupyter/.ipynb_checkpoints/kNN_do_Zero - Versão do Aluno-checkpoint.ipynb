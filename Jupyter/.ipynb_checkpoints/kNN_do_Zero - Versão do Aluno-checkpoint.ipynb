{
 "cells": [
  {
   "cell_type": "markdown",
   "metadata": {
    "id": "RARNoDSAy82G"
   },
   "source": [
    "# kNN Classificador do Zero\n",
    "# Este notebook implementa um classificador k-Nearest Neighbors (kNN) sem usar bibliotecas como scikit-learn."
   ]
  },
  {
   "cell_type": "code",
   "execution_count": null,
   "metadata": {
    "id": "0o_KIvj0y2zt"
   },
   "outputs": [],
   "source": [
    "import numpy as np\n",
    "from collections import Counter\n"
   ]
  },
  {
   "cell_type": "code",
   "execution_count": null,
   "metadata": {
    "id": "3xELC5hay6FN"
   },
   "outputs": [],
   "source": [
    "class KNNClassifier:\n",
    "    def __init__(self, k=3, distance_metric=\"euclidean\"):\n",
    "        \"\"\"\n",
    "        Inicializa o classificador k-NN com um número específico de vizinhos (k) e\n",
    "        a métrica de distância escolhida.\n",
    "        \"\"\"\n",
    "        self.k = k\n",
    "        self.distance_metric = distance_metric\n",
    "\n",
    "    def fit(self, X_train, y_train):\n",
    "        \"\"\"\n",
    "        Armazena os dados de treino no classificador.\n",
    "        \"\"\"\n",
    "        self.X_train = np.array(X_train)\n",
    "        self.y_train = np.array(y_train)\n",
    "\n",
    "    def euclidean_distance(self, x1, x2):\n",
    "        \"\"\"\n",
    "        TODO: Complete este método para calcular a distância euclidiana entre dois pontos x1 e x2.\n",
    "        Fórmula: sqrt(sum((x1 - x2)²))\n",
    "        \"\"\"\n",
    "        # Alunos devem completar!\n",
    "\n",
    "    def manhattan_distance(self, x1, x2):\n",
    "        \"\"\"\n",
    "        TODO: Complete este método para calcular a distância de Manhattan.\n",
    "        Fórmula: sum(|x1 - x2|)\n",
    "        \"\"\"\n",
    "        # Alunos devem completar!\n",
    "\n",
    "    def minkowski_distance(self, x1, x2, p=3):\n",
    "        \"\"\"\n",
    "        TODO: Complete este método para calcular a distância de Minkowski.\n",
    "        Fórmula: (sum(|x1 - x2|^p))^(1/p)\n",
    "        \"\"\"\n",
    "        # Alunos devem completar!\n",
    "\n",
    "\n",
    "    def compute_distance(self, x1, x2):\n",
    "        \"\"\"\n",
    "        Chama a função de distância correta baseada na métrica escolhida.\n",
    "        Utilize o atributo `distance_metric` para saber qual métrica é.\n",
    "        \"\"\"\n",
    "        # Alunos devem completar!\n",
    "\n",
    "    def predict(self, X_test):\n",
    "        \"\"\"\n",
    "        Realiza a predição de classe para um conjunto de dados de teste.\n",
    "        \"\"\"\n",
    "        predictions = []\n",
    "        for x in X_test:\n",
    "            distances = [self.compute_distance(x, x_train) for x_train in self.X_train]\n",
    "            k_neighbors_idx = np.argsort(distances)[:self.k]\n",
    "            k_neighbor_labels = [self.y_train[i] for i in k_neighbors_idx]\n",
    "            most_common = Counter(k_neighbor_labels).most_common(1)[0][0]\n",
    "            predictions.append(most_common)\n",
    "\n",
    "        return np.array(predictions)\n",
    "\n",
    "\n"
   ]
  },
  {
   "cell_type": "markdown",
   "metadata": {
    "id": "wz_bWgk1zhYo"
   },
   "source": [
    "📌 🔥 Atividade 1: Testar o Código com Dados de Treinamento\n"
   ]
  },
  {
   "cell_type": "code",
   "execution_count": null,
   "metadata": {
    "id": "0Py-9EBSzJyS"
   },
   "outputs": [],
   "source": [
    "X_train = np.array([\n",
    "    [1, 2], [2, 3], [3, 3],\n",
    "    [5, 5], [6, 7], [7, 8]\n",
    "])\n",
    "y_train = np.array([\"A\", \"A\", \"A\", \"B\", \"B\", \"B\"])\n",
    "\n",
    "X_test = np.array([[4, 4], [6, 6]])\n"
   ]
  },
  {
   "cell_type": "markdown",
   "metadata": {
    "id": "6-WgEzu8zn0D"
   },
   "source": [
    "📌 🔥 Atividade 2: Testar Diferentes Valores de k"
   ]
  },
  {
   "cell_type": "code",
   "execution_count": null,
   "metadata": {
    "colab": {
     "base_uri": "https://localhost:8080/"
    },
    "id": "yNVZ062lzmAZ",
    "outputId": "8b0ca7cc-04a4-40f7-805d-e4029209e0dc"
   },
   "outputs": [
    {
     "name": "stdout",
     "output_type": "stream",
     "text": [
      "Previsões: ['A' 'B']\n"
     ]
    }
   ],
   "source": [
    "k_value = 3\n",
    "knn = KNNClassifier(k=k_value)\n",
    "knn.fit(X_train, y_train)\n",
    "predictions = knn.predict(X_test)\n",
    "print(\"Previsões:\", predictions)\n"
   ]
  },
  {
   "cell_type": "markdown",
   "metadata": {
    "id": "3g8avmukznAs"
   },
   "source": [
    "📌 🔥 Atividade 3: Testar Diferentes Métricas de Distância"
   ]
  },
  {
   "cell_type": "code",
   "execution_count": null,
   "metadata": {
    "id": "ORqDoo0QzkFg"
   },
   "outputs": [],
   "source": [
    "distance_metrics = [\"euclidean\", \"manhattan\", \"minkowski\"]\n",
    "\n",
    "# Alunos devem completar! Fazer um loop, variar o k"
   ]
  },
  {
   "cell_type": "markdown",
   "metadata": {
    "id": "iu3OJf63zyh7"
   },
   "source": [
    "📌 🔥 Atividade 4: Testar com Novos Dados\n",
    "python"
   ]
  },
  {
   "cell_type": "code",
   "execution_count": null,
   "metadata": {
    "colab": {
     "base_uri": "https://localhost:8080/"
    },
    "id": "WCHuNoi0zwKm",
    "outputId": "c57a251a-52e1-4f8b-be7f-d4ef1befbf47"
   },
   "outputs": [
    {
     "name": "stdout",
     "output_type": "stream",
     "text": [
      "Previsões para os novos dados: ['A' 'B']\n"
     ]
    }
   ],
   "source": [
    "# Substitua os valores em X_train e X_test para testar com um novo conjunto de dados!\n",
    "X_train_novo = np.array([\n",
    "    [1, 1], [2, 1], [3, 2],\n",
    "    [6, 7], [7, 8], [8, 9]\n",
    "])\n",
    "y_train_novo = np.array([\"A\", \"A\", \"A\", \"B\", \"B\", \"B\"])\n",
    "\n",
    "X_test_novo = np.array([[4, 3], [7, 6]])\n",
    "\n",
    "knn_novo = KNNClassifier(k=3, distance_metric=\"euclidean\")\n",
    "knn_novo.fit(X_train_novo, y_train_novo)\n",
    "predictions_novo = knn_novo.predict(X_test_novo)\n",
    "\n",
    "print(\"Previsões para os novos dados:\", predictions_novo)\n"
   ]
  },
  {
   "cell_type": "markdown",
   "metadata": {
    "id": "UXtTgnfL1Nqm"
   },
   "source": [
    "# Atividade 5"
   ]
  },
  {
   "cell_type": "code",
   "execution_count": null,
   "metadata": {
    "colab": {
     "base_uri": "https://localhost:8080/"
    },
    "id": "KWHA3NDfz1Q0",
    "outputId": "6dacb7da-866b-4493-f7d1-9d336875808f"
   },
   "outputs": [
    {
     "name": "stdout",
     "output_type": "stream",
     "text": [
      "Previsões: ['Não' 'Não' 'Não' 'Não' 'Sim' 'Não' 'Sim' 'Não' 'Não' 'Não' 'Não' 'Sim'\n",
      " 'Não' 'Não' 'Não' 'Não' 'Não' 'Não' 'Sim' 'Sim']\n",
      "Valores Reais: ['Não' 'Não' 'Não' 'Não' 'Sim' 'Sim' 'Sim' 'Não' 'Não' 'Não' 'Não' 'Sim'\n",
      " 'Não' 'Não' 'Não' 'Não' 'Não' 'Não' 'Sim' 'Não']\n"
     ]
    }
   ],
   "source": [
    "import numpy as np\n",
    "import random\n",
    "from sklearn.model_selection import train_test_split\n",
    "\n",
    "# 🔹 Gerando o dataset artificialmente\n",
    "np.random.seed(42)\n",
    "\n",
    "# 🔹 Criando 100 amostras simuladas\n",
    "n_amostras = 100\n",
    "\n",
    "# 🔹 Recursos (features)\n",
    "experiencia = np.random.randint(0, 10, n_amostras)  # Anos de experiência (0 a 10)\n",
    "projetos = np.random.randint(0, 20, n_amostras)  # Número de projetos concluídos (0 a 20)\n",
    "nota_teste = np.random.randint(50, 100, n_amostras)  # Nota de teste técnico (50 a 100)\n",
    "\n",
    "# 🔹 Definindo a regra para a contratação (rótulo)\n",
    "contratado = np.array([\"Sim\" if (exp >= 3 and proj >= 5 and nota >= 75) else \"Não\"\n",
    "                        for exp, proj, nota in zip(experiencia, projetos, nota_teste)])\n",
    "\n",
    "# 🔹 Criando a matriz de características\n",
    "X = np.column_stack((experiencia, projetos, nota_teste))\n",
    "y = contratado\n",
    "\n",
    "# 🔹 Dividindo em treino e teste (80% treino, 20% teste)\n",
    "X_train, X_test, y_train, y_test = train_test_split(X, y, test_size=0.2, random_state=42)\n",
    "\n",
    "# 🔥 ATIVIDADE:\n",
    "# 1️⃣ Treinar o modelo kNN com esse dataset.\n",
    "# 2️⃣ Testar diferentes valores de k e diferentes métricas de distância.\n",
    "# 3️⃣ Avaliar a precisão do modelo comparando y_test com as previsões.\n",
    "# 4️⃣ Discutir os resultados e pensar em melhorias no modelo.\n",
    "\n",
    "# Importar e treinar o modelo\n",
    "knn = KNNClassifier(k=5, distance_metric=\"euclidean\")\n",
    "knn.fit(X_train, y_train)\n",
    "predictions = knn.predict(X_test)\n",
    "\n",
    "# Exibir as previsões e a realidade\n",
    "print(\"Previsões:\", predictions)\n",
    "print(\"Valores Reais:\", y_test)\n"
   ]
  },
  {
   "cell_type": "code",
   "execution_count": null,
   "metadata": {
    "id": "zcP_AwQy1PaZ"
   },
   "outputs": [],
   "source": []
  }
 ],
 "metadata": {
  "colab": {
   "provenance": [],
   "toc_visible": true
  },
  "kernelspec": {
   "display_name": "Python 3 (ipykernel)",
   "language": "python",
   "name": "python3"
  },
  "language_info": {
   "codemirror_mode": {
    "name": "ipython",
    "version": 3
   },
   "file_extension": ".py",
   "mimetype": "text/x-python",
   "name": "python",
   "nbconvert_exporter": "python",
   "pygments_lexer": "ipython3",
   "version": "3.9.19"
  }
 },
 "nbformat": 4,
 "nbformat_minor": 4
}
